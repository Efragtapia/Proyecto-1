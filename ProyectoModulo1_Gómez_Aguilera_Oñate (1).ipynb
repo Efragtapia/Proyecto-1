{
 "cells": [
  {
   "cell_type": "markdown",
   "metadata": {},
   "source": [
    "# <p style=\"text-align: center;\">  Proyecto Módulo 1\n",
    "### <p style=\"text-align: center;\"> Cash Flow Matching   \n",
    "\n",
    "### <span style=\"color:blue\"> Efraín Gómez Tapia\n",
    "\n",
    "### <span style=\"color:blue\"> Ana María Aguilera Gómez\n",
    "    \n",
    "### <span style=\"color:blue\"> Hector Oñate R.\n",
    "    \n",
    "![alt text](https://cdn-3.expansion.mx/dims4/default/306f684/2147483647/strip/true/crop/2128x1409+0+0/resize/800x530!/quality/90/?url=https%3A%2F%2Fcdn-3.expansion.mx%2F17%2F9a%2Fd96156a949f5b88a2d3c2047fb07%2Fistock-820374390.jpg)"
   ]
  },
  {
   "cell_type": "markdown",
   "metadata": {},
   "source": [
    "----------"
   ]
  },
  {
   "cell_type": "markdown",
   "metadata": {},
   "source": [
    "**Cash Flow Matching:** (_Ajuste de Flujo de Efectivo_)\n",
    "El cash flow matching trata de invertir de forma que en cada momento los flujos de caja que se obtengan con las inversiones permitan hacer frente a las coberturas aseguradas. \n",
    "\n",
    "* Bonos: Los bonos son instrumentos financieros de deuda utilizados tanto por entidades privadas como por entidades de gobierno. El bono es una de las formas de materializarse los títulos de deuda, de renta fija o variable. El emisor se compromete a devolver el capital principal junto con los intereses.\n",
    "\n"
   ]
  },
  {
   "cell_type": "markdown",
   "metadata": {},
   "source": [
    "Como podemos ver en nuestra vida diaria, todos tenemos ciertas obligaciones futuras relacionadas con el dinero, y tenemos que ser previsores para ver cómo podemos llegar a cumplir esas obligaciones, e incluso, además de cumplirlas, sobrepasar el objetivo y ahorrar.\n",
    "\n",
    "En nuestro proyecto vamos a suponer que tenemos ciertas obligaciones que tenemos que cumplir para el plazo de unos años y que tenemos ciertos tipos de bonos con ciertos intereses. Nuestro objetivo es saber cuanto dinero depositar en cada bono para que al final de los años nos alcance para pagar todas nuestras obligaciones o incluso nos sobre como ya comentamos en la parte de arriba "
   ]
  },
  {
   "cell_type": "markdown",
   "metadata": {},
   "source": [
    "**Formulación del problema:**\n",
    "\n",
    "$$\n",
    "\\begin{array}{ll}\n",
    "\\min_{x_1,\\dots,x_n} &amp; \\sum_{j=1}^{m} p_jx_j \\\\\n",
    "\\text{s. a. }        &amp; \\sum_{j=1}^{m}c_{i,j}x_j\\geq y_i \\text{ para } 1\\leq i\\leq n \\\\\n",
    "                     &amp; x_j \\text{ para } 1\\leq j\\leq m,\n",
    "\\end{array}\n",
    "$$\n",
    "donde:\n",
    "\n",
    "$x_j$ es la cantidad del bono $j$ a ser comprada ($j=1,2,\\dots,m$),\n",
    "\n",
    "$p_j$ es el precio del bono $j$,\n",
    "\n",
    "$y_i$ es la obligación en el periodo $i$ ($i=1,2,\\dots,n$), y\n",
    "\n",
    "$c_{i,j}$ es el cupón del bono $j$ en el periodo $i$."
   ]
  },
  {
   "cell_type": "markdown",
   "metadata": {},
   "source": [
    "## Problema:\n",
    "* Se requiere atender obligaciones de efectivo sobre un periodo de 6 años.\n",
    "\n",
    "* Existen 10 bonos a seleccionar.\n",
    "\n",
    "* La estructura de flujo de efectivo de cada bono se muestra en la columna correspondiente de la tabla.\n",
    "\n",
    "* Los precios de cada bono están dados en el vector $p$.\n",
    "\n",
    "* Las obligaciones están dadas en el vector $y$.\n",
    "\n",
    "* Partimos del supuesto de que se pueden comprar fracciones de bono."
   ]
  },
  {
   "cell_type": "code",
   "execution_count": 11,
   "metadata": {},
   "outputs": [],
   "source": [
    "#Librerías a importar \n",
    "import pandas as pd\n",
    "import numpy as np\n",
    "import matplotlib.pyplot as plt"
   ]
  },
  {
   "cell_type": "code",
   "execution_count": 12,
   "metadata": {},
   "outputs": [
    {
     "data": {
      "text/html": [
       "<div>\n",
       "<style scoped>\n",
       "    .dataframe tbody tr th:only-of-type {\n",
       "        vertical-align: middle;\n",
       "    }\n",
       "\n",
       "    .dataframe tbody tr th {\n",
       "        vertical-align: top;\n",
       "    }\n",
       "\n",
       "    .dataframe thead th {\n",
       "        text-align: right;\n",
       "    }\n",
       "</style>\n",
       "<table border=\"1\" class=\"dataframe\">\n",
       "  <thead>\n",
       "    <tr style=\"text-align: right;\">\n",
       "      <th></th>\n",
       "      <th>1</th>\n",
       "      <th>2</th>\n",
       "      <th>3</th>\n",
       "      <th>4</th>\n",
       "      <th>5</th>\n",
       "      <th>6</th>\n",
       "      <th>7</th>\n",
       "      <th>8</th>\n",
       "      <th>9</th>\n",
       "      <th>10</th>\n",
       "    </tr>\n",
       "  </thead>\n",
       "  <tbody>\n",
       "    <tr>\n",
       "      <th>1</th>\n",
       "      <td>10</td>\n",
       "      <td>7</td>\n",
       "      <td>8</td>\n",
       "      <td>6</td>\n",
       "      <td>7</td>\n",
       "      <td>5</td>\n",
       "      <td>10</td>\n",
       "      <td>8</td>\n",
       "      <td>7</td>\n",
       "      <td>100</td>\n",
       "    </tr>\n",
       "    <tr>\n",
       "      <th>2</th>\n",
       "      <td>10</td>\n",
       "      <td>7</td>\n",
       "      <td>8</td>\n",
       "      <td>6</td>\n",
       "      <td>7</td>\n",
       "      <td>5</td>\n",
       "      <td>10</td>\n",
       "      <td>8</td>\n",
       "      <td>107</td>\n",
       "      <td>0</td>\n",
       "    </tr>\n",
       "    <tr>\n",
       "      <th>3</th>\n",
       "      <td>10</td>\n",
       "      <td>7</td>\n",
       "      <td>8</td>\n",
       "      <td>6</td>\n",
       "      <td>7</td>\n",
       "      <td>5</td>\n",
       "      <td>110</td>\n",
       "      <td>108</td>\n",
       "      <td>0</td>\n",
       "      <td>0</td>\n",
       "    </tr>\n",
       "    <tr>\n",
       "      <th>4</th>\n",
       "      <td>10</td>\n",
       "      <td>7</td>\n",
       "      <td>8</td>\n",
       "      <td>6</td>\n",
       "      <td>7</td>\n",
       "      <td>105</td>\n",
       "      <td>0</td>\n",
       "      <td>0</td>\n",
       "      <td>0</td>\n",
       "      <td>0</td>\n",
       "    </tr>\n",
       "    <tr>\n",
       "      <th>5</th>\n",
       "      <td>10</td>\n",
       "      <td>7</td>\n",
       "      <td>8</td>\n",
       "      <td>106</td>\n",
       "      <td>107</td>\n",
       "      <td>0</td>\n",
       "      <td>0</td>\n",
       "      <td>0</td>\n",
       "      <td>0</td>\n",
       "      <td>0</td>\n",
       "    </tr>\n",
       "    <tr>\n",
       "      <th>6</th>\n",
       "      <td>110</td>\n",
       "      <td>107</td>\n",
       "      <td>108</td>\n",
       "      <td>0</td>\n",
       "      <td>0</td>\n",
       "      <td>0</td>\n",
       "      <td>0</td>\n",
       "      <td>0</td>\n",
       "      <td>0</td>\n",
       "      <td>0</td>\n",
       "    </tr>\n",
       "  </tbody>\n",
       "</table>\n",
       "</div>"
      ],
      "text/plain": [
       "    1    2    3    4    5    6    7    8    9    10\n",
       "1   10    7    8    6    7    5   10    8    7  100\n",
       "2   10    7    8    6    7    5   10    8  107    0\n",
       "3   10    7    8    6    7    5  110  108    0    0\n",
       "4   10    7    8    6    7  105    0    0    0    0\n",
       "5   10    7    8  106  107    0    0    0    0    0\n",
       "6  110  107  108    0    0    0    0    0    0    0"
      ]
     },
     "execution_count": 12,
     "metadata": {},
     "output_type": "execute_result"
    }
   ],
   "source": [
    "table = pd.DataFrame(index=np.arange(6)+1, columns=np.arange(10)+1)\n",
    "table.iloc[:,0] = [10,10,10,10,10,110]\n",
    "table.iloc[:,1] = [7,7,7,7,7,107]\n",
    "table.iloc[:,2] = [8,8,8,8,8,108]\n",
    "table.iloc[:,3] = [6,6,6,6,106,0]\n",
    "table.iloc[:,4] = [7,7,7,7,107,0]\n",
    "table.iloc[:,5] = [5,5,5,105,0,0]\n",
    "table.iloc[:,6] = [10,10,110,0,0,0]\n",
    "table.iloc[:,7] = [8,8,108,0,0,0]\n",
    "table.iloc[:,8] = [7,107,0,0,0,0]\n",
    "table.iloc[:,9] = [100,0,0,0,0,0]\n",
    "table"
   ]
  },
  {
   "cell_type": "code",
   "execution_count": 8,
   "metadata": {},
   "outputs": [],
   "source": [
    "C = table.values\n",
    "p = np.array([109, 94.8, 99.5, 93.1, 97.2, 92.9, 110, 104, 102, 95.2])\n",
    "y = np.array([107, 190, 990, 80, 900, 1400])"
   ]
  },
  {
   "cell_type": "code",
   "execution_count": 9,
   "metadata": {},
   "outputs": [],
   "source": [
    "from scipy.optimize import linprog"
   ]
  },
  {
   "cell_type": "code",
   "execution_count": 10,
   "metadata": {},
   "outputs": [
    {
     "data": {
      "text/plain": [
       "     con: array([], dtype=float64)\n",
       "     fun: 2771.4753097304674\n",
       " message: 'Optimization terminated successfully.'\n",
       "     nit: 9\n",
       "   slack: array([ 9.35073245e+01,  1.05073245e+01,  0.00000000e+00,  5.73479104e+01,\n",
       "       -1.13686838e-13, -2.27373675e-13])\n",
       "  status: 0\n",
       " success: True\n",
       "       x: array([ 0.        , 13.08411215,  0.        ,  7.6265209 ,  0.        ,\n",
       "        0.        ,  0.        ,  7.89492676,  0.        ,  0.        ])"
      ]
     },
     "execution_count": 10,
     "metadata": {},
     "output_type": "execute_result"
    }
   ],
   "source": [
    "r = linprog(p, A_ub=-C, b_ub=-y)\n",
    "r"
   ]
  },
  {
   "cell_type": "code",
   "execution_count": 13,
   "metadata": {},
   "outputs": [
    {
     "data": {
      "text/plain": [
       "     con: array([], dtype=float64)\n",
       "     fun: 2771.4753097304674\n",
       " message: 'Optimization terminated successfully.'\n",
       "     nit: 9\n",
       "   slack: array([ 9.35073245e+01,  1.05073245e+01,  0.00000000e+00,  5.73479104e+01,\n",
       "       -1.13686838e-13, -2.27373675e-13])\n",
       "  status: 0\n",
       " success: True\n",
       "       x: array([ 0.        , 13.08411215,  0.        ,  7.6265209 ,  0.        ,\n",
       "        0.        ,  0.        ,  7.89492676,  0.        ,  0.        ])"
      ]
     },
     "execution_count": 13,
     "metadata": {},
     "output_type": "execute_result"
    }
   ],
   "source": [
    "res = linprog(p, A_ub=-C, b_ub=-y)\n",
    "res"
   ]
  },
  {
   "cell_type": "code",
   "execution_count": 14,
   "metadata": {},
   "outputs": [
    {
     "data": {
      "text/plain": [
       "array([ 200.50732446,  200.50732446,  990.        ,  137.34791042,\n",
       "        900.        , 1400.        ])"
      ]
     },
     "execution_count": 14,
     "metadata": {},
     "output_type": "execute_result"
    }
   ],
   "source": [
    "C.dot(res.x)"
   ]
  },
  {
   "cell_type": "code",
   "execution_count": 15,
   "metadata": {},
   "outputs": [
    {
     "data": {
      "text/plain": [
       "array([ 107,  190,  990,   80,  900, 1400])"
      ]
     },
     "execution_count": 15,
     "metadata": {},
     "output_type": "execute_result"
    }
   ],
   "source": [
    "y"
   ]
  },
  {
   "cell_type": "code",
   "execution_count": null,
   "metadata": {},
   "outputs": [],
   "source": []
  }
 ],
 "metadata": {
  "kernelspec": {
   "display_name": "Python 3",
   "language": "python",
   "name": "python3"
  },
  "language_info": {
   "codemirror_mode": {
    "name": "ipython",
    "version": 3
   },
   "file_extension": ".py",
   "mimetype": "text/x-python",
   "name": "python",
   "nbconvert_exporter": "python",
   "pygments_lexer": "ipython3",
   "version": "3.7.3"
  }
 },
 "nbformat": 4,
 "nbformat_minor": 2
}
